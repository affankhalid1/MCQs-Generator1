{
 "cells": [
  {
   "cell_type": "code",
   "execution_count": 50,
   "id": "44e214bf",
   "metadata": {},
   "outputs": [
    {
     "data": {
      "text/plain": [
       "True"
      ]
     },
     "execution_count": 50,
     "metadata": {},
     "output_type": "execute_result"
    }
   ],
   "source": [
    "import os\n",
    "import json\n",
    "import traceback\n",
    "import pandas as pd\n",
    "from langchain_groq import ChatGroq\n",
    "from langchain_core.output_parsers import StrOutputParser\n",
    "from langchain_core.runnables import RunnableLambda\n",
    "from langchain_core.prompts import PromptTemplate\n",
    "\n",
    "from dotenv import load_dotenv\n",
    "\n",
    "load_dotenv()"
   ]
  },
  {
   "cell_type": "code",
   "execution_count": 51,
   "id": "4f2d2f40",
   "metadata": {},
   "outputs": [],
   "source": [
    "KEY = os.getenv(\"GROQ_API_KEY\")"
   ]
  },
  {
   "cell_type": "code",
   "execution_count": 53,
   "id": "03034877",
   "metadata": {},
   "outputs": [],
   "source": [
    "llm = ChatGroq(model=\"llama-3.3-70b-versatile\", api_key=KEY)"
   ]
  },
  {
   "cell_type": "code",
   "execution_count": 54,
   "id": "b4c1edd1",
   "metadata": {},
   "outputs": [],
   "source": [
    "NUMBER = 5\n",
    "TONE = \"simple\"\n",
    "SUBJECT = \"Machine Learning\""
   ]
  },
  {
   "cell_type": "code",
   "execution_count": 59,
   "id": "8246d42c",
   "metadata": {},
   "outputs": [],
   "source": [
    "RESPONSE_JSON = {\n",
    "    \"1\":{\n",
    "        \"mcq\":\"multiple choice question\",\n",
    "        \"option\":{\n",
    "            \"a\":\"choice here\",\n",
    "            \"b\":\"choice here\",\n",
    "            \"c\":\"choice here\",\n",
    "            \"d\":\"choice here\",\n",
    "        },\n",
    "        \"correct\":\"correct answer\"\n",
    "    },\n",
    "    \"2\":{\n",
    "        \"mcq\":\"multiple choice question\",\n",
    "        \"option\":{\n",
    "            \"a\":\"choice here\",\n",
    "            \"b\":\"choice here\",\n",
    "            \"c\":\"choice here\",\n",
    "            \"d\":\"choice here\",\n",
    "        },\n",
    "        \"correct\":\"correct answer\"\n",
    "    },\n",
    "    \"3\":{\n",
    "        \"mcq\":\"multiple choice question\",\n",
    "        \"option\":{\n",
    "            \"a\":\"choice here\",\n",
    "            \"b\":\"choice here\",\n",
    "            \"c\":\"choice here\",\n",
    "            \"d\":\"choice here\",\n",
    "        },\n",
    "        \"correct\":\"correct answer\"\n",
    "    },\n",
    "    \"4\":{\n",
    "        \"mcq\":\"multiple choice question\",\n",
    "        \"option\":{\n",
    "            \"a\":\"choice here\",\n",
    "            \"b\":\"choice here\",\n",
    "            \"c\":\"choice here\",\n",
    "            \"d\":\"choice here\",\n",
    "        },\n",
    "        \"correct\":\"correct answer\"\n",
    "    },\n",
    "    \"5\":{\n",
    "        \"mcq\":\"multiple choice question\",\n",
    "        \"option\":{\n",
    "            \"a\":\"choice here\",\n",
    "            \"b\":\"choice here\",\n",
    "            \"c\":\"choice here\",\n",
    "            \"d\":\"choice here\",\n",
    "        },\n",
    "        \"correct\":\"correct answer\"\n",
    "    }\n",
    "}"
   ]
  },
  {
   "cell_type": "code",
   "execution_count": 60,
   "id": "32064db9",
   "metadata": {},
   "outputs": [
    {
     "data": {
      "text/plain": [
       "'{\"1\": {\"mcq\": \"multiple choice question\", \"option\": {\"a\": \"choice here\", \"b\": \"choice here\", \"c\": \"choice here\", \"d\": \"choice here\"}, \"correct\": \"correct answer\"}, \"2\": {\"mcq\": \"multiple choice question\", \"option\": {\"a\": \"choice here\", \"b\": \"choice here\", \"c\": \"choice here\", \"d\": \"choice here\"}, \"correct\": \"correct answer\"}, \"3\": {\"mcq\": \"multiple choice question\", \"option\": {\"a\": \"choice here\", \"b\": \"choice here\", \"c\": \"choice here\", \"d\": \"choice here\"}, \"correct\": \"correct answer\"}, \"4\": {\"mcq\": \"multiple choice question\", \"option\": {\"a\": \"choice here\", \"b\": \"choice here\", \"c\": \"choice here\", \"d\": \"choice here\"}, \"correct\": \"correct answer\"}, \"5\": {\"mcq\": \"multiple choice question\", \"option\": {\"a\": \"choice here\", \"b\": \"choice here\", \"c\": \"choice here\", \"d\": \"choice here\"}, \"correct\": \"correct answer\"}}'"
      ]
     },
     "execution_count": 60,
     "metadata": {},
     "output_type": "execute_result"
    }
   ],
   "source": [
    "RESPONSE_JSON = json.dumps(RESPONSE_JSON)\n",
    "RESPONSE_JSON"
   ]
  },
  {
   "cell_type": "code",
   "execution_count": 61,
   "id": "b8397aaa",
   "metadata": {},
   "outputs": [],
   "source": [
    "FILE_PATH = \"D:/AI Projects/MCQs Generator/data.txt\""
   ]
  },
  {
   "cell_type": "code",
   "execution_count": 63,
   "id": "87b92789",
   "metadata": {},
   "outputs": [],
   "source": [
    "with open(FILE_PATH, \"r\") as f:\n",
    "    TEXT = f.read()"
   ]
  },
  {
   "cell_type": "code",
   "execution_count": 64,
   "id": "b67e8d7e",
   "metadata": {},
   "outputs": [],
   "source": [
    "template = \"\"\"\n",
    "Text: {text}\n",
    "You are an expert mcq maker. Given the above text, it is yor job to \\\n",
    "create a quiz of {number} multiple choice questions for {subject} in {tone} tone.\n",
    "Make sure the questions are not repeated and check all the questions to be conforming the text as well.\n",
    "Make sure to format your response like RESPONSE_JSON and use it as a guide. \\\n",
    "Ensure to make {number} MCQs.\n",
    "###  RESPONSE_JSON\n",
    "{response_json} \n",
    "\n",
    "\"\"\"\n",
    "\n",
    "Template1 = PromptTemplate.from_template(template)"
   ]
  },
  {
   "cell_type": "code",
   "execution_count": 65,
   "id": "dab537fd",
   "metadata": {},
   "outputs": [
    {
     "data": {
      "text/plain": [
       "PromptTemplate(input_variables=['number', 'response_json', 'subject', 'text', 'tone'], input_types={}, partial_variables={}, template='\\nText: {text}\\nYou are an expert mcq maker. Given the above text, it is yor job to create a quiz of {number} multiple choice questions for {subject} in {tone} tone.\\nMake sure the questions are not repeated and check all the questions to be conforming the text as well.\\nMake sure to format your response like RESPONSE_JSON and use it as a guide. Ensure to make {number} MCQs.\\n###  RESPONSE_JSON\\n{response_json} \\n\\n')"
      ]
     },
     "execution_count": 65,
     "metadata": {},
     "output_type": "execute_result"
    }
   ],
   "source": [
    "Template1"
   ]
  },
  {
   "cell_type": "code",
   "execution_count": 81,
   "id": "db4891b8",
   "metadata": {},
   "outputs": [],
   "source": [
    "input_dict = {\n",
    "    'number': NUMBER,\n",
    "    'response_json': RESPONSE_JSON,\n",
    "    'subject': SUBJECT,\n",
    "    'text': TEXT,\n",
    "    'tone': TONE\n",
    "}"
   ]
  },
  {
   "cell_type": "code",
   "execution_count": 83,
   "id": "c05688f8",
   "metadata": {},
   "outputs": [],
   "source": [
    "quiz_generation = Template1 | llm | StrOutputParser()\n",
    "quiz = quiz_generation.invoke(input_dict)"
   ]
  },
  {
   "cell_type": "code",
   "execution_count": 86,
   "id": "1c25d491",
   "metadata": {},
   "outputs": [],
   "source": [
    "quiz\n",
    "with open(\"MCQs.txt\", \"w\") as f:\n",
    "    f.write(quiz)"
   ]
  },
  {
   "cell_type": "code",
   "execution_count": 77,
   "id": "e2c86797",
   "metadata": {},
   "outputs": [],
   "source": [
    "template2 = \"\"\"\n",
    "You are an expert english grammarian and writer. Given a multiple choice quiz for {subject} students.\\\n",
    "You need to evaluate the complexity of the question and give a complete analysis of the quiz. Only use at max 50 words for complexity.\n",
    "if the quiz is not at per with the cognitive and anlytical abilities of the students, \\\n",
    "update the quiz questions which needs to be changed and change the tone such that it perfectly fits the student ability.\n",
    "Quiz_MCQs:\n",
    "{quiz}\n",
    "\n",
    "Check from an expert English Writer from the above quiz:\n",
    "Make sure to format the quiz like RESPONSE_JSON and use it as a guide. \\\n",
    "###  RESPONSE_JSON\n",
    "{response_json}\n",
    "\"\"\"\n",
    "Template2 = PromptTemplate.from_template(template2)"
   ]
  },
  {
   "cell_type": "code",
   "execution_count": 69,
   "id": "09f12dd0",
   "metadata": {},
   "outputs": [],
   "source": [
    "def add_quiz_to_input(quiz:str):\n",
    "    return{**input_dict,\"quiz\":quiz}"
   ]
  },
  {
   "cell_type": "code",
   "execution_count": 74,
   "id": "a1a47198",
   "metadata": {},
   "outputs": [],
   "source": [
    "chain = Template1 | llm | StrOutputParser() | RunnableLambda(add_quiz_to_input)| Template2 | llm | StrOutputParser()"
   ]
  },
  {
   "cell_type": "code",
   "execution_count": 78,
   "id": "d9170f57",
   "metadata": {},
   "outputs": [],
   "source": [
    "quiz_evaluation = chain.invoke(input_dict)"
   ]
  },
  {
   "cell_type": "code",
   "execution_count": 79,
   "id": "51cbe0bb",
   "metadata": {},
   "outputs": [
    {
     "data": {
      "text/plain": [
       "'### Complexity: Moderate\\n\\n### RESPONSE_JSON\\n{\"analysis\": \"The quiz is well-structured, but some questions may be too specific or require prior knowledge of machine learning history. To better fit the students\\' abilities, the questions should be more focused on fundamental concepts and general knowledge of machine learning.\", \\n\"updated_quiz\": {\\n\"1\": {\"mcq\": \"What is the primary goal of machine learning?\", \"option\": {\"a\": \"To classify data\", \"b\": \"To make predictions\", \"c\": \"To improve performance with experience\", \"d\": \"All of the above\"}, \"correct\": \"d\"},\\n\"2\": {\"mcq\": \"Which of the following is a key characteristic of machine learning?\", \"option\": {\"a\": \"Ability to think like humans\", \"b\": \"Ability to recognize patterns\", \"c\": \"Ability to learn from experience\", \"d\": \"Ability to analyze data\"}, \"correct\": \"c\"},\\n\"3\": {\"mcq\": \"What is required for a computer program to be said to learn from experience, according to Tom M. Mitchell?\", \"option\": {\"a\": \"Its performance at tasks improves with experience\", \"b\": \"It can think like a human\", \"c\": \"It can do what humans can do\", \"d\": \"It can recognize patterns\"}, \"correct\": \"a\"},\\n\"4\": {\"mcq\": \"What are the two main objectives of modern-day machine learning?\", \"option\": {\"a\": \"To classify data and make predictions\", \"b\": \"To recognize patterns and make decisions\", \"c\": \"To learn from experience and think like humans\", \"d\": \"To analyze data and provide insights\"}, \"correct\": \"a\"},\\n\"5\": {\"mcq\": \"Who is credited with coining the term \\'machine learning\\'?\", \"option\": {\"a\": \"Alan Turing\", \"b\": \"Arthur Samuel\", \"c\": \"Donald Hebb\", \"d\": \"Tom M. Mitchell\"}, \"correct\": \"b\"}\\n}\\n}'"
      ]
     },
     "execution_count": 79,
     "metadata": {},
     "output_type": "execute_result"
    }
   ],
   "source": [
    "quiz_evaluation"
   ]
  },
  {
   "cell_type": "code",
   "execution_count": 87,
   "id": "6a9b0521",
   "metadata": {},
   "outputs": [],
   "source": [
    "with open(\"MCQs.txt\", \"a\") as f:\n",
    "    f.write(quiz_evaluation)"
   ]
  }
 ],
 "metadata": {
  "kernelspec": {
   "display_name": "mcqgen",
   "language": "python",
   "name": "python3"
  },
  "language_info": {
   "codemirror_mode": {
    "name": "ipython",
    "version": 3
   },
   "file_extension": ".py",
   "mimetype": "text/x-python",
   "name": "python",
   "nbconvert_exporter": "python",
   "pygments_lexer": "ipython3",
   "version": "3.12.0"
  }
 },
 "nbformat": 4,
 "nbformat_minor": 5
}
